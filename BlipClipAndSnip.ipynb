{
 "cells": [
  {
   "cell_type": "code",
   "execution_count": null,
   "metadata": {},
   "outputs": [],
   "source": [
    "%pip install git+https://github.com/huggingface/transformers.git\n",
    "%pip install Pillow redvid\n",
    "%pip install torch torchvision torchaudio --index-url https://download.pytorch.org/whl/cu118"
   ]
  },
  {
   "cell_type": "code",
   "execution_count": null,
   "metadata": {},
   "outputs": [],
   "source": [
    "from transformers import AutoProcessor, Blip2ForConditionalGeneration\n",
    "import torch\n",
    "\n",
    "processor = AutoProcessor.from_pretrained(\"Salesforce/blip2-opt-2.7b\")\n",
    "model = Blip2ForConditionalGeneration.from_pretrained(\"Salesforce/blip2-opt-2.7b\", torch_dtype=torch.float16)\n"
   ]
  },
  {
   "cell_type": "code",
   "execution_count": null,
   "metadata": {},
   "outputs": [],
   "source": [
    "device = \"cuda\" if torch.cuda.is_available() else \"cpu\"\n",
    "model.to(device)\n"
   ]
  },
  {
   "cell_type": "code",
   "execution_count": null,
   "metadata": {},
   "outputs": [],
   "source": [
    "import requests\n",
    "from redvid import Downloader\n",
    "import subprocess\n",
    "from PIL import Image\n",
    "\n",
    "video_input_file = 'video.mp4'\n",
    "video_output_file = 'video.jpg'\n",
    "\n",
    "img_output_file = 'image.jpg'\n",
    "\n",
    "def downloadRedditVideo(url):\n",
    "  reddit = Downloader(max_q=True)\n",
    "  reddit.log = False\n",
    "  reddit.url = url\n",
    "  reddit.path = \"./\"\n",
    "  reddit.filename = video_output_file\n",
    "  reddit.download()\n",
    "  print(\"Downloaded \" + video_output_file)\n",
    "\n",
    "def extractFrameFromVideo():\n",
    "  input_file = video_input_file\n",
    "  output_file = video_output_file\n",
    "\n",
    "  #delete video.jpg if it exists\n",
    "  subprocess.call(['rm', '-f', output_file])\n",
    "\n",
    "  duration = float(subprocess.check_output(['ffprobe', '-i', input_file, '-show_entries', 'format=duration', '-v', 'quiet', '-of', 'csv=%s' % (\"p=0\")]).strip())\n",
    "  middle_time = duration / 2\n",
    "  #extract the frame\n",
    "  subprocess.call(['ffmpeg', '-i', input_file, '-ss', str(middle_time), '-vframes', '1', '-q:v', '2', output_file], stdout=subprocess.DEVNULL, stderr=subprocess.DEVNULL)\n",
    "  print(\"Extracted frame from \" + input_file + \" to \" + output_file)\n",
    "\n",
    "  image = Image.open(output_file)\n",
    "  return image\n",
    "\n",
    "\n",
    "def generate_blip2(image):\n",
    "  inputs = processor(image, return_tensors=\"pt\").to(device, torch.float16)\n",
    "  generated_ids = model.generate(**inputs, max_new_tokens=20)\n",
    "  generated_text = processor.batch_decode(generated_ids, skip_special_tokens=True)[0].strip()\n",
    "  print(generated_text)\n",
    "\n"
   ]
  },
  {
   "cell_type": "markdown",
   "metadata": {},
   "source": [
    "## load subreddits"
   ]
  },
  {
   "cell_type": "code",
   "execution_count": null,
   "metadata": {},
   "outputs": [],
   "source": [
    "import glob\n",
    "\n",
    "json_files = glob.glob('./data/*.json')\n",
    "print(json_files)\n",
    "\n",
    "import json\n",
    "\n",
    "def getRedditSubreddits(json_files):\n",
    "  subreddits = {}\n",
    "  for json_file in json_files:\n",
    "    with open(json_file) as f:\n",
    "      data = json.load(f)\n",
    "      firstKey = next(iter(data))\n",
    "      subredditName = data[firstKey]['subreddit']\n",
    "      subreddits[subredditName] = data\n",
    "  return subreddits\n",
    "\n",
    "def saveredditSubreddits(subreddits):\n",
    "  for subreddit in subreddits:\n",
    "    with open('./data/' + subreddit + '_top_posts.json', 'w') as outfile:\n",
    "      json.dump(subreddits[subreddit], outfile, indent=4)\n",
    "\n",
    "subreddits = getRedditSubreddits(json_files)\n",
    "\n",
    "print(\"subreddits\", subreddits.keys())\n"
   ]
  },
  {
   "cell_type": "code",
   "execution_count": null,
   "metadata": {},
   "outputs": [],
   "source": [
    "def downloadImage(url):\n",
    "  img_data = requests.get(url).content\n",
    "  with open('image_name.jpg', 'wb') as handler:\n",
    "      handler.write(img_data)\n",
    "\n",
    "def downloadRedditMedia(domain, url):\n",
    "  "
   ]
  },
  {
   "cell_type": "code",
   "execution_count": 8,
   "metadata": {},
   "outputs": [
    {
     "ename": "NameError",
     "evalue": "name 'downloadImage' is not defined",
     "output_type": "error",
     "traceback": [
      "\u001b[0;31m---------------------------------------------------------------------------\u001b[0m",
      "\u001b[0;31mNameError\u001b[0m                                 Traceback (most recent call last)",
      "\u001b[1;32m/media/lettuce/Woo/reddit_scrape/BlipClipAndSnip.ipynb Cell 8\u001b[0m line \u001b[0;36m3\n\u001b[1;32m      <a href='vscode-notebook-cell:/media/lettuce/Woo/reddit_scrape/BlipClipAndSnip.ipynb#X34sZmlsZQ%3D%3D?line=0'>1</a>\u001b[0m mediaDomains \u001b[39m=\u001b[39m [\u001b[39m'\u001b[39m\u001b[39mi.redd.it\u001b[39m\u001b[39m'\u001b[39m, \u001b[39m'\u001b[39m\u001b[39mv.redd.it\u001b[39m\u001b[39m'\u001b[39m, \u001b[39m'\u001b[39m\u001b[39mi.imgur.com\u001b[39m\u001b[39m'\u001b[39m, \u001b[39m'\u001b[39m\u001b[39myoutu.be\u001b[39m\u001b[39m'\u001b[39m, \u001b[39m'\u001b[39m\u001b[39myoutube.com\u001b[39m\u001b[39m'\u001b[39m, \u001b[39m'\u001b[39m\u001b[39mi.reddituploads.com\u001b[39m\u001b[39m'\u001b[39m]\n\u001b[1;32m      <a href='vscode-notebook-cell:/media/lettuce/Woo/reddit_scrape/BlipClipAndSnip.ipynb#X34sZmlsZQ%3D%3D?line=1'>2</a>\u001b[0m mediaDomains \u001b[39m=\u001b[39m {\n\u001b[0;32m----> <a href='vscode-notebook-cell:/media/lettuce/Woo/reddit_scrape/BlipClipAndSnip.ipynb#X34sZmlsZQ%3D%3D?line=2'>3</a>\u001b[0m     \u001b[39m\"\u001b[39m\u001b[39mi.redd.it\u001b[39m\u001b[39m\"\u001b[39m: downloadImage,\n\u001b[1;32m      <a href='vscode-notebook-cell:/media/lettuce/Woo/reddit_scrape/BlipClipAndSnip.ipynb#X34sZmlsZQ%3D%3D?line=3'>4</a>\u001b[0m     \u001b[39m\"\u001b[39m\u001b[39mi.reddituploads.com\u001b[39m\u001b[39m\"\u001b[39m: downloadImage,\n\u001b[1;32m      <a href='vscode-notebook-cell:/media/lettuce/Woo/reddit_scrape/BlipClipAndSnip.ipynb#X34sZmlsZQ%3D%3D?line=4'>5</a>\u001b[0m     \u001b[39m\"\u001b[39m\u001b[39mv.redd.it\u001b[39m\u001b[39m\"\u001b[39m: downloadRedditVideo,\n\u001b[1;32m      <a href='vscode-notebook-cell:/media/lettuce/Woo/reddit_scrape/BlipClipAndSnip.ipynb#X34sZmlsZQ%3D%3D?line=5'>6</a>\u001b[0m     \u001b[39m\"\u001b[39m\u001b[39mi.imgur.com\u001b[39m\u001b[39m\"\u001b[39m: downloadImage,\n\u001b[1;32m      <a href='vscode-notebook-cell:/media/lettuce/Woo/reddit_scrape/BlipClipAndSnip.ipynb#X34sZmlsZQ%3D%3D?line=6'>7</a>\u001b[0m     \u001b[39m\"\u001b[39m\u001b[39myoutu.be\u001b[39m\u001b[39m\"\u001b[39m: downloadYoutubeThumbnail,\n\u001b[1;32m      <a href='vscode-notebook-cell:/media/lettuce/Woo/reddit_scrape/BlipClipAndSnip.ipynb#X34sZmlsZQ%3D%3D?line=7'>8</a>\u001b[0m     \u001b[39m\"\u001b[39m\u001b[39myoutube.com\u001b[39m\u001b[39m\"\u001b[39m: downloadYoutubeThumbnail,\n\u001b[1;32m      <a href='vscode-notebook-cell:/media/lettuce/Woo/reddit_scrape/BlipClipAndSnip.ipynb#X34sZmlsZQ%3D%3D?line=8'>9</a>\u001b[0m   }\n\u001b[1;32m     <a href='vscode-notebook-cell:/media/lettuce/Woo/reddit_scrape/BlipClipAndSnip.ipynb#X34sZmlsZQ%3D%3D?line=9'>10</a>\u001b[0m \u001b[39mdef\u001b[39;00m \u001b[39misMediaDomain\u001b[39m(url):\n\u001b[1;32m     <a href='vscode-notebook-cell:/media/lettuce/Woo/reddit_scrape/BlipClipAndSnip.ipynb#X34sZmlsZQ%3D%3D?line=10'>11</a>\u001b[0m   \u001b[39mfor\u001b[39;00m mediaDomain \u001b[39min\u001b[39;00m mediaDomains\u001b[39m.\u001b[39mkeys():\n",
      "\u001b[0;31mNameError\u001b[0m: name 'downloadImage' is not defined"
     ]
    }
   ],
   "source": [
    "\n",
    "\n",
    "mediaDomains = ['i.redd.it', 'v.redd.it', 'i.imgur.com', 'youtu.be', 'youtube.com', 'i.reddituploads.com']\n",
    "mediaDomains = {\n",
    "    \"i.redd.it\": downloadImage,\n",
    "    \"i.reddituploads.com\": downloadImage,\n",
    "    \"v.redd.it\": downloadRedditVideo,\n",
    "    \"i.imgur.com\": downloadImage,\n",
    "    \"youtu.be\": downloadYoutubeThumbnail,\n",
    "    \"youtube.com\": downloadYoutubeThumbnail,\n",
    "  }\n",
    "def isMediaDomain(url):\n",
    "  for mediaDomain in mediaDomains.keys():\n",
    "    if mediaDomain in url or url.startswith('self.'):\n",
    "      return True\n",
    "  return False\n",
    "\n",
    "for subreddit_name in subreddits:\n",
    "  subreddit = subreddits[subreddit_name]\n",
    "  print(\"subreddit\", subreddit_name)\n",
    "  for post_id in subreddit:\n",
    "    post = subreddit[post_id]\n",
    "    isValidUrlPost = post['url'] != None and post['text'] == None and isMediaDomain(post['url'])\n",
    "    if not isValidUrlPost:\n",
    "      continue\n",
    "\n",
    "    #print url\n",
    "    print(post['url'])\n",
    "\n"
   ]
  }
 ],
 "metadata": {
  "kernelspec": {
   "display_name": "trainingLlama2",
   "language": "python",
   "name": "python3"
  },
  "language_info": {
   "codemirror_mode": {
    "name": "ipython",
    "version": 3
   },
   "file_extension": ".py",
   "mimetype": "text/x-python",
   "name": "python",
   "nbconvert_exporter": "python",
   "pygments_lexer": "ipython3",
   "version": "3.10.13"
  }
 },
 "nbformat": 4,
 "nbformat_minor": 2
}
